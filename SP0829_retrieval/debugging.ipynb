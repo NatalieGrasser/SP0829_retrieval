{
 "cells": [
  {
   "cell_type": "code",
   "execution_count": 4,
   "metadata": {},
   "outputs": [
    {
     "data": {
      "text/plain": [
       "21490.629127835706"
      ]
     },
     "execution_count": 4,
     "metadata": {},
     "output_type": "execute_result"
    }
   ],
   "source": [
    "import getpass\n",
    "import os\n",
    "import numpy as np\n",
    "import sys \n",
    "os.environ['OMP_NUM_THREADS'] = '1' # to avoid using too many CPUs, important for MPI\n",
    "\n",
    "if getpass.getuser() == \"grasser\": # when running from LEM\n",
    "    os.environ['pRT_input_data_path'] =\"/net/lem/data2/pRT_input_data\"\n",
    "    from mpi4py import MPI \n",
    "    comm = MPI.COMM_WORLD # important for MPI\n",
    "    rank = comm.Get_rank() # important for MPI\n",
    "    import matplotlib\n",
    "    matplotlib.use('Agg') # disable interactive plotting\n",
    "elif getpass.getuser() == \"natalie\": # when testing from Natalie's laptop\n",
    "    os.environ['pRT_input_data_path'] = \"/home/natalie/.local/lib/python3.8/site-packages/petitRADTRANS/input_data_std/input_data\"\n",
    "from target import Target\n",
    "from retrieval import Retrieval\n",
    "from parameters import Parameters\n",
    "\n",
    "# pass configuration as command line argument\n",
    "# example: config_run.py freechem 200 5\n",
    "chem = 'freechem'#sys.argv[1] # freechem / equchem / quequchem\n",
    "Nlive= 40#int(sys.argv[2]) # number of live points (integer)\n",
    "tol= 50#float(sys.argv[3]) # evidence tolerance (float)\n",
    "\n",
    "def init_retrieval(chem,Nlive,tol):\n",
    "\n",
    "    brown_dwarf = Target('SP0829')\n",
    "    output=f'{chem}_N{Nlive}_ev{tol}' # output folder name\n",
    "\n",
    "    constant_params={} # add if needed\n",
    "    free_params = {'rv': ([2,20],r'$v_{\\rm rad}$'),\n",
    "                'vsini': ([0,40],r'$v$ sin$i$'),\n",
    "                'log_g':([3,5],r'log $g$'),\n",
    "                'epsilon_limb': ([0.2,1], r'$\\epsilon_\\mathrm{limb}$')} # limb-darkening coefficient (0-1)\n",
    "\n",
    "    pt_params={'T0' : ([1000,4000], r'$T_0$'), # bottom of the atmosphere (hotter)\n",
    "            'T1' : ([0,4000], r'$T_1$'),\n",
    "            'T2' : ([0,4000], r'$T_2$'),\n",
    "            'T3' : ([0,4000], r'$T_3$'),\n",
    "            'T4' : ([0,4000], r'$T_4$'),} # top of atmosphere (cooler)\n",
    "    free_params.update(pt_params)\n",
    "\n",
    "    # if equilibrium chemistry, define [Fe/H], C/O, and isotopologue ratios\n",
    "    if chem in ['equchem','quequchem']:\n",
    "        chemistry={'C/O':([0,1], r'C/O'), \n",
    "                'Fe/H': ([-1.5,1.5], r'[Fe/H]'), \n",
    "                'log_C12_13_ratio': ([1,12], r'log $\\mathrm{^{12}C/^{13}C}$'), \n",
    "                'log_O16_18_ratio': ([1,12], r'log $\\mathrm{^{16}O/^{18}O}$'), \n",
    "                'log_O16_17_ratio': ([1,12], r'log $\\mathrm{^{16}O/^{17}O}$')}\n",
    "            \n",
    "    if chem=='quequchem': # quenched equilibrium chemistry, define quench pressure of certain species\n",
    "        quenching={'log_Pqu_CO_CH4': ([-6,2], r'log P$_{qu}$(CO,CH$_4$,H$_2$O)'),\n",
    "                'log_Pqu_NH3': ([-6,2], r'log P$_{qu}$(NH$_3$)'),\n",
    "                'log_Pqu_HCN': ([-6,2], r'log P$_{qu}$(HCN)')}  \n",
    "        chemistry.update(quenching)\n",
    "        \n",
    "    # if free chemistry, define VMRs\n",
    "    if chem=='freechem': \n",
    "        chemistry={'log_H2O':([-12,-1],r'log H$_2$O'),\n",
    "                'log_12CO':([-12,-1],r'log $^{12}$CO'),\n",
    "                'log_13CO':([-12,-1],r'log $^{13}$CO'),\n",
    "                'log_C18O':([-12,-1],r'log C$^{18}$O'),\n",
    "                'log_C17O':([-12,-1],r'log C$^{17}$O'),\n",
    "                'log_CH4':([-12,-1],r'log CH$_4$'),\n",
    "                'log_NH3':([-12,-1],r'log NH$_3$'),\n",
    "                'log_HCN':([-12,-1],r'log HCN'),\n",
    "                'log_HF':([-12,-1],r'log HF'),\n",
    "                'log_H2(18)O':([-12,-1],r'log H$_2^{18}$O'),\n",
    "                'log_H2S':([-12,-1],r'log H$_2$S')}\n",
    "\n",
    "    free_params.update(chemistry)\n",
    "    parameters = Parameters(free_params, constant_params)\n",
    "    cube = np.random.rand(parameters.n_params)\n",
    "    parameters(cube)\n",
    "    retrieval=Retrieval(target=brown_dwarf,parameters=parameters,output_name=output,chemistry=chem)\n",
    "\n",
    "    return retrieval\n",
    "\n",
    "retrieval=init_retrieval(chem=chem,Nlive=Nlive,tol=tol)\n",
    "retrieval.PMN_lnL()\n",
    "#retrieval.run_retrieval(N_live_points=Nlive,evidence_tolerance=tol)"
   ]
  }
 ],
 "metadata": {
  "kernelspec": {
   "display_name": "base",
   "language": "python",
   "name": "python3"
  },
  "language_info": {
   "codemirror_mode": {
    "name": "ipython",
    "version": 3
   },
   "file_extension": ".py",
   "mimetype": "text/x-python",
   "name": "python",
   "nbconvert_exporter": "python",
   "pygments_lexer": "ipython3",
   "version": "3.8.5"
  }
 },
 "nbformat": 4,
 "nbformat_minor": 2
}
